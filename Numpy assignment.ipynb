{
 "cells": [
  {
   "cell_type": "markdown",
   "metadata": {},
   "source": [
    "#### Problem Statement 1: \n",
    "Write a function so that the columns of the output matrix are powers of the input vector. \n",
    "\n",
    "The order of the powers is determined by the increasing boolean argument. Specifically, when  increasing is False, the i-th output column is the input vector raised element-wise to the power  of N - i - 1. \n",
    "\n",
    "HINT: Such a matrix with a geometric progression in each row is named for Alexandre Theophile Vandermonde. "
   ]
  },
  {
   "cell_type": "code",
   "execution_count": 1,
   "metadata": {},
   "outputs": [],
   "source": [
    "# Defining the function\n",
    "\n",
    "import numpy as np\n",
    "\n",
    "def ATV_func (arr, N):\n",
    "    return (np.vstack ([arr**(N-i-1) for i in range (N)]).transpose ())"
   ]
  },
  {
   "cell_type": "code",
   "execution_count": 2,
   "metadata": {},
   "outputs": [
    {
     "data": {
      "text/plain": [
       "array([[ 1,  1,  1],\n",
       "       [16,  4,  1],\n",
       "       [49,  7,  1],\n",
       "       [16,  4,  1]], dtype=int32)"
      ]
     },
     "execution_count": 2,
     "metadata": {},
     "output_type": "execute_result"
    }
   ],
   "source": [
    "# Using the function on an array\n",
    "\n",
    "array = np.array ([1,4,7,4])\n",
    "ATV_func (array, 3)"
   ]
  },
  {
   "cell_type": "code",
   "execution_count": 3,
   "metadata": {},
   "outputs": [
    {
     "data": {
      "text/plain": [
       "array([[ 1,  1,  1],\n",
       "       [16,  4,  1],\n",
       "       [49,  7,  1],\n",
       "       [16,  4,  1]])"
      ]
     },
     "execution_count": 3,
     "metadata": {},
     "output_type": "execute_result"
    }
   ],
   "source": [
    "# Verifying the result using the numpy function vander\n",
    "\n",
    "np.vander (array, 3)"
   ]
  },
  {
   "cell_type": "code",
   "execution_count": 4,
   "metadata": {},
   "outputs": [
    {
     "name": "stdout",
     "output_type": "stream",
     "text": [
      "The results from self defined function =\n",
      " [[  8   4   2   1]\n",
      " [216  36   6   1]\n",
      " [ 64  16   4   1]\n",
      " [729  81   9   1]]\n",
      "\n",
      "The results from numpy function =\n",
      " [[  8   4   2   1]\n",
      " [216  36   6   1]\n",
      " [ 64  16   4   1]\n",
      " [729  81   9   1]]\n"
     ]
    }
   ],
   "source": [
    "# Trying with another array\n",
    "\n",
    "array = np.array ([2,6,4,9])\n",
    "print ('The results from self defined function =\\n', ATV_func (array,4))\n",
    "print ('\\nThe results from numpy function =\\n', np.vander (array,4))"
   ]
  },
  {
   "cell_type": "markdown",
   "metadata": {},
   "source": [
    "#### Problem Statement 2:\n",
    "Write a function to find moving average in an array over a window:  Test it over [3, 5, 7, 2, 8, 10, 11, 65, 72, 81, 99, 100, 150] and window of 3."
   ]
  },
  {
   "cell_type": "code",
   "execution_count": 5,
   "metadata": {},
   "outputs": [],
   "source": [
    "# Defining the function\n",
    "\n",
    "def mov_avg (lst, k) :\n",
    "    return (np.round ([np.mean (lst [i : i + k]) for i in range (len (lst) - k + 1)],2))"
   ]
  },
  {
   "cell_type": "code",
   "execution_count": 6,
   "metadata": {},
   "outputs": [
    {
     "name": "stdout",
     "output_type": "stream",
     "text": [
      "The list of numbers = [3, 5, 7, 2, 8, 10, 11, 65, 72, 81, 99, 100, 150] \n",
      "window = 3\n",
      "The moving average of the list of numbers with window = 3 is\n",
      " [  5.     4.67   5.67   6.67   9.67  28.67  49.33  72.67  84.    93.33\n",
      " 116.33]\n"
     ]
    }
   ],
   "source": [
    "lst_num = [3, 5, 7, 2, 8, 10, 11, 65, 72, 81, 99, 100, 150]\n",
    "print ('The list of numbers =', lst_num, '\\nwindow = 3')\n",
    "print ('The moving average of the list of numbers with window = 3 is\\n', mov_avg (lst_num, 3))"
   ]
  },
  {
   "cell_type": "markdown",
   "metadata": {},
   "source": [
    "##### Prepared by Sahaj Harnal\n",
    "##### Email: sahaj.harnal@gmail.com"
   ]
  }
 ],
 "metadata": {
  "kernelspec": {
   "display_name": "Python 3",
   "language": "python",
   "name": "python3"
  },
  "language_info": {
   "codemirror_mode": {
    "name": "ipython",
    "version": 3
   },
   "file_extension": ".py",
   "mimetype": "text/x-python",
   "name": "python",
   "nbconvert_exporter": "python",
   "pygments_lexer": "ipython3",
   "version": "3.8.5"
  }
 },
 "nbformat": 4,
 "nbformat_minor": 4
}
