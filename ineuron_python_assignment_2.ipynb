{
 "cells": [
  {
   "cell_type": "markdown",
   "metadata": {},
   "source": [
    "1. Create the below pattern using nested for loop in Python.\n",
    "\n",
    "###### * \n",
    "###### * * \n",
    "###### * * * \n",
    "###### * * * * \n",
    "###### * * * * * \n",
    "###### * * * * \n",
    "###### * * * \n",
    "###### * * \n",
    "###### * "
   ]
  },
  {
   "cell_type": "code",
   "execution_count": 1,
   "metadata": {},
   "outputs": [],
   "source": [
    "for i in range (1,10) :\n",
    "    for j in range (i if i < 6 else 10-i) :\n",
    "        print ('*', end = '')\n",
    "    print ('\\n', end = '')"
   ]
  },
  {
   "cell_type": "markdown",
   "metadata": {},
   "source": [
    "2. Write a Python program to reverse a word after accepting the input from the user."
   ]
  },
  {
   "cell_type": "code",
   "execution_count": 2,
   "metadata": {},
   "outputs": [
    {
     "name": "stdout",
     "output_type": "stream",
     "text": [
      "Enter a word to reverse: hello\n",
      "The reverse of the entered word is: olleh\n"
     ]
    }
   ],
   "source": [
    "word = input ('Enter a word to reverse: ')\n",
    "print ('The reverse of the entered word is:',word [::-1])"
   ]
  },
  {
   "cell_type": "markdown",
   "metadata": {},
   "source": [
    "##### Prepared by Sahaj Harnal\n",
    "##### Email: sahaj.harnal@gmail.com"
   ]
  }
 ],
 "metadata": {
  "kernelspec": {
   "display_name": "Python 3",
   "language": "python",
   "name": "python3"
  },
  "language_info": {
   "codemirror_mode": {
    "name": "ipython",
    "version": 3
   },
   "file_extension": ".py",
   "mimetype": "text/x-python",
   "name": "python",
   "nbconvert_exporter": "python",
   "pygments_lexer": "ipython3",
   "version": "3.8.5"
  }
 },
 "nbformat": 4,
 "nbformat_minor": 4
}
