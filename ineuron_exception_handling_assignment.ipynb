{
 "cells": [
  {
   "cell_type": "markdown",
   "metadata": {},
   "source": [
    "1. Write a function to compute 5/0 and use try/except to catch the exceptions."
   ]
  },
  {
   "cell_type": "code",
   "execution_count": 1,
   "metadata": {},
   "outputs": [
    {
     "name": "stdout",
     "output_type": "stream",
     "text": [
      "Division by zero is not defined\n"
     ]
    }
   ],
   "source": [
    "try :\n",
    "    print (5/0)\n",
    "except :\n",
    "    print ('Division by zero is not defined')"
   ]
  },
  {
   "cell_type": "code",
   "execution_count": 2,
   "metadata": {},
   "outputs": [
    {
     "name": "stdout",
     "output_type": "stream",
     "text": [
      "Division by zero is not defined\n",
      "division by zero\n",
      "\n",
      "\n",
      "Cannot accept string type\n",
      "unsupported operand type(s) for /: 'int' and 'str'\n",
      "\n",
      "\n",
      "2.5\n",
      "Successfully executed\n"
     ]
    }
   ],
   "source": [
    "# Using multiple except block\n",
    "\n",
    "def func (a,b):\n",
    "    try :\n",
    "        print (a/b)\n",
    "    except ZeroDivisionError as ze:\n",
    "        print ('Division by zero is not defined')\n",
    "        print (ze)\n",
    "    except TypeError as te :\n",
    "        print ('Cannot accept string type')\n",
    "        print (te)\n",
    "    else :\n",
    "        print ('Successfully executed')\n",
    "\n",
    "func (5,0)\n",
    "print ('\\n')\n",
    "func (5,'r')\n",
    "print ('\\n')\n",
    "func (5,2)"
   ]
  },
  {
   "cell_type": "markdown",
   "metadata": {},
   "source": [
    "2. Implement a Python program to generate all sentences where subject is in  [\"Americans\", \"Indians\"] and verb is in [\"play\", \"watch\"] and the object is in  [\"Baseball\",\"Cricket\"]. "
   ]
  },
  {
   "cell_type": "code",
   "execution_count": 3,
   "metadata": {},
   "outputs": [
    {
     "name": "stdout",
     "output_type": "stream",
     "text": [
      "Americans play Baseball\n",
      "Americans play Cricket\n",
      "Americans watch Baseball\n",
      "Americans watch Cricket\n",
      "Indians play Baseball\n",
      "Indians play Cricket\n",
      "Indians watch Baseball\n",
      "Indians watch Cricket\n"
     ]
    }
   ],
   "source": [
    "subjects = [\"Americans\", \"Indians\"]\n",
    "verbs = [\"play\", \"watch\"]\n",
    "objs = [\"Baseball\",\"Cricket\"]\n",
    "for subject in subjects :\n",
    "    for verb in verbs :\n",
    "        for obj in objs :\n",
    "            print (subject + ' ' + verb + ' ' + obj)"
   ]
  },
  {
   "cell_type": "markdown",
   "metadata": {},
   "source": [
    "##### Prepared by Sahaj Harnal\n",
    "##### Email: sahaj.harnal@gmail.com"
   ]
  }
 ],
 "metadata": {
  "kernelspec": {
   "display_name": "Python 3",
   "language": "python",
   "name": "python3"
  },
  "language_info": {
   "codemirror_mode": {
    "name": "ipython",
    "version": 3
   },
   "file_extension": ".py",
   "mimetype": "text/x-python",
   "name": "python",
   "nbconvert_exporter": "python",
   "pygments_lexer": "ipython3",
   "version": "3.8.5"
  }
 },
 "nbformat": 4,
 "nbformat_minor": 4
}
