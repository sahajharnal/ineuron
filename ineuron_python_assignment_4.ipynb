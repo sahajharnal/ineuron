{
 "cells": [
  {
   "cell_type": "markdown",
   "metadata": {},
   "source": [
    "1.1 Write a Python Program(with class concepts) to find the area of the triangle using the below  formula. \n",
    "\n",
    "area = (s*(s-a)*(s-b)*(s-c)) ** 0.5 \n",
    "\n",
    "Function to take the length of the sides of triangle from user should be defined in the parent  class and function to calculate the area should be defined in subclass. "
   ]
  },
  {
   "cell_type": "code",
   "execution_count": 1,
   "metadata": {},
   "outputs": [],
   "source": [
    "# Defining the parent class\n",
    "class triangle :\n",
    "    def __init__ (self,a,b,c) :\n",
    "        self.a=a\n",
    "        self.b=b\n",
    "        self.c=c"
   ]
  },
  {
   "cell_type": "code",
   "execution_count": 2,
   "metadata": {},
   "outputs": [],
   "source": [
    "# Defining the child class\n",
    "class area_triangle (triangle):\n",
    "    def __init__ (self,a,b,c):\n",
    "        super (area_triangle,self).__init__ (a,b,c)\n",
    "    def calculate_area (self):\n",
    "        s=(self.a+self.b+self.c)/2\n",
    "        return ((s*(s-self.a)*(s-self.b)*(s-self.c))**0.5)"
   ]
  },
  {
   "cell_type": "code",
   "execution_count": 3,
   "metadata": {},
   "outputs": [
    {
     "name": "stdout",
     "output_type": "stream",
     "text": [
      "The area of the triangle1 = 6.0\n"
     ]
    }
   ],
   "source": [
    "# instantiating the area_triangle class\n",
    "triangle1 = area_triangle (3,4,5)\n",
    "\n",
    "# Finding the area of the triangle\n",
    "print ('The area of the triangle1 =', triangle1.calculate_area ())"
   ]
  },
  {
   "cell_type": "markdown",
   "metadata": {},
   "source": [
    "1.2 Write a function filter_long_words() that takes a list of words and an integer n and returns  the list of words that are longer than n. "
   ]
  },
  {
   "cell_type": "code",
   "execution_count": 4,
   "metadata": {},
   "outputs": [
    {
     "name": "stdout",
     "output_type": "stream",
     "text": [
      "The original list = ['Sahaj', 'Harnal', 'machine', 'learning', 'cool', 'lot']\n",
      "The filtered list = ['Harnal', 'machine', 'learning']\n"
     ]
    }
   ],
   "source": [
    "# Defining the function\n",
    "def filter_long_words (words, n) :\n",
    "    return (list (filter (lambda x: len (x) > n, words)))\n",
    "\n",
    "# Defining the list of words\n",
    "lst = ['Sahaj', 'Harnal', 'machine', 'learning', 'cool', 'lot']\n",
    "\n",
    "# Using the function to filter the list of words with length > 5\n",
    "print ('The original list =', lst)\n",
    "print ('The filtered list =',filter_long_words (lst,5))"
   ]
  },
  {
   "cell_type": "markdown",
   "metadata": {},
   "source": [
    "2.1 Write a Python program using function concept that maps list of words into a list of integers  representing the lengths of the corresponding words. \n",
    "\n",
    "Hint: If a list [ ab,cde,erty] is passed on to the python function output should come as [2,3,4] Here 2,3 and 4 are the lengths of the words in the list. "
   ]
  },
  {
   "cell_type": "code",
   "execution_count": 5,
   "metadata": {},
   "outputs": [
    {
     "name": "stdout",
     "output_type": "stream",
     "text": [
      "The list of words is ['Sahaj', 'Harnal', 'machine', 'learning', 'cool', 'lot']\n",
      "It's corresponding lengths are [5, 6, 7, 8, 4, 3]\n"
     ]
    }
   ],
   "source": [
    "# Defining the list of words\n",
    "lst = ['Sahaj', 'Harnal', 'machine', 'learning', 'cool', 'lot']\n",
    "\n",
    "# Mapping the list of words to its length\n",
    "print ('The list of words is', lst)\n",
    "print ('It\\'s corresponding lengths are',list (map (lambda x : len (x), lst)))"
   ]
  },
  {
   "cell_type": "markdown",
   "metadata": {},
   "source": [
    "2.2 Write a Python function which takes a character (i.e. a string of length 1) and returns True if  it is a vowel, False otherwise. "
   ]
  },
  {
   "cell_type": "code",
   "execution_count": 6,
   "metadata": {},
   "outputs": [
    {
     "name": "stdout",
     "output_type": "stream",
     "text": [
      "Is \"m\" a vowel?  False\n",
      "Is \"x\" a vowel?  False\n",
      "Is \"o\" a vowel?  True\n",
      "Is \"a\" a vowel?  True\n"
     ]
    }
   ],
   "source": [
    "check_vowel = lambda x : x in list ('aeiou')\n",
    "print ('Is \"m\" a vowel? ', check_vowel ('m'))\n",
    "print ('Is \"x\" a vowel? ', check_vowel ('x'))\n",
    "print ('Is \"o\" a vowel? ', check_vowel ('o'))\n",
    "print ('Is \"a\" a vowel? ', check_vowel ('a'))"
   ]
  },
  {
   "cell_type": "markdown",
   "metadata": {},
   "source": [
    "##### Prepared by Sahaj Harnal\n",
    "##### Email: sahaj.harnal@gmail.com"
   ]
  }
 ],
 "metadata": {
  "kernelspec": {
   "display_name": "Python 3",
   "language": "python",
   "name": "python3"
  },
  "language_info": {
   "codemirror_mode": {
    "name": "ipython",
    "version": 3
   },
   "file_extension": ".py",
   "mimetype": "text/x-python",
   "name": "python",
   "nbconvert_exporter": "python",
   "pygments_lexer": "ipython3",
   "version": "3.8.5"
  }
 },
 "nbformat": 4,
 "nbformat_minor": 4
}
